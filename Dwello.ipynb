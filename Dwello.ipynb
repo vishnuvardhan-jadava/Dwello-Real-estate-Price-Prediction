{
  "cells": [
    {
      "attachments": {},
      "cell_type": "markdown",
      "metadata": {},
      "source": [
        "### installing the required libraries"
      ]
    },
    {
      "cell_type": "code",
      "execution_count": 162,
      "metadata": {},
      "outputs": [
        {
          "name": "stdout",
          "output_type": "stream",
          "text": [
            "Requirement already satisfied: pandas in c:\\users\\enduser\\appdata\\local\\programs\\python\\python311\\lib\\site-packages (1.5.1)\n",
            "Requirement already satisfied: python-dateutil>=2.8.1 in c:\\users\\enduser\\appdata\\local\\programs\\python\\python311\\lib\\site-packages (from pandas) (2.8.2)\n",
            "Requirement already satisfied: pytz>=2020.1 in c:\\users\\enduser\\appdata\\local\\programs\\python\\python311\\lib\\site-packages (from pandas) (2022.6)\n",
            "Requirement already satisfied: numpy>=1.21.0 in c:\\users\\enduser\\appdata\\local\\programs\\python\\python311\\lib\\site-packages (from pandas) (1.23.4)\n",
            "Requirement already satisfied: six>=1.5 in c:\\users\\enduser\\appdata\\local\\programs\\python\\python311\\lib\\site-packages (from python-dateutil>=2.8.1->pandas) (1.16.0)\n",
            "Requirement already satisfied: numpy in c:\\users\\enduser\\appdata\\local\\programs\\python\\python311\\lib\\site-packages (1.23.4)\n",
            "Requirement already satisfied: matplotlib in c:\\users\\enduser\\appdata\\local\\programs\\python\\python311\\lib\\site-packages (3.6.2)\n",
            "Requirement already satisfied: contourpy>=1.0.1 in c:\\users\\enduser\\appdata\\local\\programs\\python\\python311\\lib\\site-packages (from matplotlib) (1.0.6)\n",
            "Requirement already satisfied: cycler>=0.10 in c:\\users\\enduser\\appdata\\local\\programs\\python\\python311\\lib\\site-packages (from matplotlib) (0.11.0)\n",
            "Requirement already satisfied: fonttools>=4.22.0 in c:\\users\\enduser\\appdata\\local\\programs\\python\\python311\\lib\\site-packages (from matplotlib) (4.38.0)\n",
            "Requirement already satisfied: kiwisolver>=1.0.1 in c:\\users\\enduser\\appdata\\local\\programs\\python\\python311\\lib\\site-packages (from matplotlib) (1.4.4)\n",
            "Requirement already satisfied: numpy>=1.19 in c:\\users\\enduser\\appdata\\local\\programs\\python\\python311\\lib\\site-packages (from matplotlib) (1.23.4)\n",
            "Requirement already satisfied: packaging>=20.0 in c:\\users\\enduser\\appdata\\local\\programs\\python\\python311\\lib\\site-packages (from matplotlib) (23.2)\n",
            "Requirement already satisfied: pillow>=6.2.0 in c:\\users\\enduser\\appdata\\local\\programs\\python\\python311\\lib\\site-packages (from matplotlib) (9.3.0)\n",
            "Requirement already satisfied: pyparsing>=2.2.1 in c:\\users\\enduser\\appdata\\local\\programs\\python\\python311\\lib\\site-packages (from matplotlib) (3.0.9)\n",
            "Requirement already satisfied: python-dateutil>=2.7 in c:\\users\\enduser\\appdata\\local\\programs\\python\\python311\\lib\\site-packages (from matplotlib) (2.8.2)\n",
            "Requirement already satisfied: six>=1.5 in c:\\users\\enduser\\appdata\\local\\programs\\python\\python311\\lib\\site-packages (from python-dateutil>=2.7->matplotlib) (1.16.0)\n",
            "Requirement already satisfied: scikit-learn in c:\\users\\enduser\\appdata\\local\\programs\\python\\python311\\lib\\site-packages (1.3.2)\n",
            "Requirement already satisfied: numpy<2.0,>=1.17.3 in c:\\users\\enduser\\appdata\\local\\programs\\python\\python311\\lib\\site-packages (from scikit-learn) (1.23.4)\n",
            "Requirement already satisfied: scipy>=1.5.0 in c:\\users\\enduser\\appdata\\local\\programs\\python\\python311\\lib\\site-packages (from scikit-learn) (1.9.3)\n",
            "Requirement already satisfied: joblib>=1.1.1 in c:\\users\\enduser\\appdata\\local\\programs\\python\\python311\\lib\\site-packages (from scikit-learn) (1.3.2)\n",
            "Requirement already satisfied: threadpoolctl>=2.0.0 in c:\\users\\enduser\\appdata\\local\\programs\\python\\python311\\lib\\site-packages (from scikit-learn) (3.2.0)\n",
            "Requirement already satisfied: flask-ngrok in c:\\users\\enduser\\appdata\\local\\programs\\python\\python311\\lib\\site-packages (0.0.25)\n",
            "Requirement already satisfied: Flask>=0.8 in c:\\users\\enduser\\appdata\\local\\programs\\python\\python311\\lib\\site-packages (from flask-ngrok) (2.3.2)\n",
            "Requirement already satisfied: requests in c:\\users\\enduser\\appdata\\local\\programs\\python\\python311\\lib\\site-packages (from flask-ngrok) (2.28.1)\n",
            "Requirement already satisfied: Werkzeug>=2.3.3 in c:\\users\\enduser\\appdata\\local\\programs\\python\\python311\\lib\\site-packages (from Flask>=0.8->flask-ngrok) (2.3.6)\n",
            "Requirement already satisfied: Jinja2>=3.1.2 in c:\\users\\enduser\\appdata\\local\\programs\\python\\python311\\lib\\site-packages (from Flask>=0.8->flask-ngrok) (3.1.2)\n",
            "Requirement already satisfied: itsdangerous>=2.1.2 in c:\\users\\enduser\\appdata\\local\\programs\\python\\python311\\lib\\site-packages (from Flask>=0.8->flask-ngrok) (2.1.2)\n",
            "Requirement already satisfied: click>=8.1.3 in c:\\users\\enduser\\appdata\\local\\programs\\python\\python311\\lib\\site-packages (from Flask>=0.8->flask-ngrok) (8.1.3)\n",
            "Requirement already satisfied: blinker>=1.6.2 in c:\\users\\enduser\\appdata\\local\\programs\\python\\python311\\lib\\site-packages (from Flask>=0.8->flask-ngrok) (1.6.2)\n",
            "Requirement already satisfied: charset-normalizer<3,>=2 in c:\\users\\enduser\\appdata\\local\\programs\\python\\python311\\lib\\site-packages (from requests->flask-ngrok) (2.1.1)\n",
            "Requirement already satisfied: idna<4,>=2.5 in c:\\users\\enduser\\appdata\\local\\programs\\python\\python311\\lib\\site-packages (from requests->flask-ngrok) (3.4)\n",
            "Requirement already satisfied: urllib3<1.27,>=1.21.1 in c:\\users\\enduser\\appdata\\local\\programs\\python\\python311\\lib\\site-packages (from requests->flask-ngrok) (1.26.13)\n",
            "Requirement already satisfied: certifi>=2017.4.17 in c:\\users\\enduser\\appdata\\local\\programs\\python\\python311\\lib\\site-packages (from requests->flask-ngrok) (2022.9.24)\n",
            "Requirement already satisfied: colorama in c:\\users\\enduser\\appdata\\local\\programs\\python\\python311\\lib\\site-packages (from click>=8.1.3->Flask>=0.8->flask-ngrok) (0.4.6)\n",
            "Requirement already satisfied: MarkupSafe>=2.0 in c:\\users\\enduser\\appdata\\local\\programs\\python\\python311\\lib\\site-packages (from Jinja2>=3.1.2->Flask>=0.8->flask-ngrok) (2.1.1)\n",
            "Requirement already satisfied: folium in c:\\users\\enduser\\appdata\\local\\programs\\python\\python311\\lib\\site-packages (0.15.1)\n",
            "Requirement already satisfied: branca>=0.6.0 in c:\\users\\enduser\\appdata\\local\\programs\\python\\python311\\lib\\site-packages (from folium) (0.7.0)\n",
            "Requirement already satisfied: jinja2>=2.9 in c:\\users\\enduser\\appdata\\local\\programs\\python\\python311\\lib\\site-packages (from folium) (3.1.2)\n",
            "Requirement already satisfied: numpy in c:\\users\\enduser\\appdata\\local\\programs\\python\\python311\\lib\\site-packages (from folium) (1.23.4)\n",
            "Requirement already satisfied: requests in c:\\users\\enduser\\appdata\\local\\programs\\python\\python311\\lib\\site-packages (from folium) (2.28.1)\n",
            "Requirement already satisfied: xyzservices in c:\\users\\enduser\\appdata\\local\\programs\\python\\python311\\lib\\site-packages (from folium) (2023.10.1)\n",
            "Requirement already satisfied: MarkupSafe>=2.0 in c:\\users\\enduser\\appdata\\local\\programs\\python\\python311\\lib\\site-packages (from jinja2>=2.9->folium) (2.1.1)\n",
            "Requirement already satisfied: charset-normalizer<3,>=2 in c:\\users\\enduser\\appdata\\local\\programs\\python\\python311\\lib\\site-packages (from requests->folium) (2.1.1)\n",
            "Requirement already satisfied: idna<4,>=2.5 in c:\\users\\enduser\\appdata\\local\\programs\\python\\python311\\lib\\site-packages (from requests->folium) (3.4)\n",
            "Requirement already satisfied: urllib3<1.27,>=1.21.1 in c:\\users\\enduser\\appdata\\local\\programs\\python\\python311\\lib\\site-packages (from requests->folium) (1.26.13)\n",
            "Requirement already satisfied: certifi>=2017.4.17 in c:\\users\\enduser\\appdata\\local\\programs\\python\\python311\\lib\\site-packages (from requests->folium) (2022.9.24)\n",
            "Requirement already satisfied: pyngrok==4.1.1 in c:\\users\\enduser\\appdata\\local\\programs\\python\\python311\\lib\\site-packages (4.1.1)\n",
            "Requirement already satisfied: future in c:\\users\\enduser\\appdata\\local\\programs\\python\\python311\\lib\\site-packages (from pyngrok==4.1.1) (0.18.3)\n",
            "Requirement already satisfied: PyYAML in c:\\users\\enduser\\appdata\\local\\programs\\python\\python311\\lib\\site-packages (from pyngrok==4.1.1) (6.0)\n",
            "Requirement already satisfied: geopy in c:\\users\\enduser\\appdata\\local\\programs\\python\\python311\\lib\\site-packages (2.4.1)\n",
            "Requirement already satisfied: geographiclib<3,>=1.52 in c:\\users\\enduser\\appdata\\local\\programs\\python\\python311\\lib\\site-packages (from geopy) (2.0)\n",
            "Requirement already satisfied: pgeocode in c:\\users\\enduser\\appdata\\local\\programs\\python\\python311\\lib\\site-packages (0.4.1)\n",
            "Requirement already satisfied: requests in c:\\users\\enduser\\appdata\\local\\programs\\python\\python311\\lib\\site-packages (from pgeocode) (2.28.1)\n",
            "Requirement already satisfied: numpy in c:\\users\\enduser\\appdata\\local\\programs\\python\\python311\\lib\\site-packages (from pgeocode) (1.23.4)\n",
            "Requirement already satisfied: pandas in c:\\users\\enduser\\appdata\\local\\programs\\python\\python311\\lib\\site-packages (from pgeocode) (1.5.1)\n",
            "Requirement already satisfied: python-dateutil>=2.8.1 in c:\\users\\enduser\\appdata\\local\\programs\\python\\python311\\lib\\site-packages (from pandas->pgeocode) (2.8.2)\n",
            "Requirement already satisfied: pytz>=2020.1 in c:\\users\\enduser\\appdata\\local\\programs\\python\\python311\\lib\\site-packages (from pandas->pgeocode) (2022.6)\n",
            "Requirement already satisfied: charset-normalizer<3,>=2 in c:\\users\\enduser\\appdata\\local\\programs\\python\\python311\\lib\\site-packages (from requests->pgeocode) (2.1.1)\n",
            "Requirement already satisfied: idna<4,>=2.5 in c:\\users\\enduser\\appdata\\local\\programs\\python\\python311\\lib\\site-packages (from requests->pgeocode) (3.4)\n",
            "Requirement already satisfied: urllib3<1.27,>=1.21.1 in c:\\users\\enduser\\appdata\\local\\programs\\python\\python311\\lib\\site-packages (from requests->pgeocode) (1.26.13)\n",
            "Requirement already satisfied: certifi>=2017.4.17 in c:\\users\\enduser\\appdata\\local\\programs\\python\\python311\\lib\\site-packages (from requests->pgeocode) (2022.9.24)\n",
            "Requirement already satisfied: six>=1.5 in c:\\users\\enduser\\appdata\\local\\programs\\python\\python311\\lib\\site-packages (from python-dateutil>=2.8.1->pandas->pgeocode) (1.16.0)\n",
            "Authtoken saved to configuration file: C:\\Users\\EndUser/.ngrok2/ngrok.yml\n"
          ]
        }
      ],
      "source": [
        "!pip install pandas\n",
        "!pip install numpy\n",
        "!pip install matplotlib\n",
        "!pip install scikit-learn\n",
        "\n",
        "!pip install flask-ngrok\n",
        "!pip install folium\n",
        "!pip install pyngrok==4.1.1\n",
        "!pip install geopy\n",
        "!pip install pgeocode\n",
        "!ngrok authtoken enter your authentication token here"
      ]
    },
    {
      "attachments": {},
      "cell_type": "markdown",
      "metadata": {},
      "source": [
        "### importing the basic libraries"
      ]
    },
    {
      "cell_type": "code",
      "execution_count": 163,
      "metadata": {
        "id": "mKXi-7AAkCu3"
      },
      "outputs": [],
      "source": [
        "import pandas as pd\n",
        "import seaborn as sns\n",
        "import matplotlib.pyplot as plt\n",
        "from flask import Flask, render_template, request, send_from_directory\n",
        "import folium\n",
        "from flask_ngrok import run_with_ngrok\n",
        "import os\n",
        "from sklearn.preprocessing import StandardScaler\n",
        "from sklearn.model_selection import train_test_split\n",
        "from sklearn.compose import ColumnTransformer\n",
        "from sklearn.pipeline import Pipeline\n",
        "from sklearn.preprocessing import OneHotEncoder\n",
        "from sklearn.linear_model import LinearRegression\n",
        "from sklearn.metrics import r2_score\n",
        "import requests\n",
        "import geopy\n",
        "from geopy.geocoders import Nominatim\n",
        "import pgeocode\n",
        "nomi = pgeocode.Nominatim('us')\n",
        "\n",
        "%matplotlib inline"
      ]
    },
    {
      "attachments": {},
      "cell_type": "markdown",
      "metadata": {},
      "source": [
        "### loading the realestate_prices dataset"
      ]
    },
    {
      "cell_type": "code",
      "execution_count": 164,
      "metadata": {
        "id": "x9fD6dSOLbT4"
      },
      "outputs": [],
      "source": [
        "df = pd.read_csv('realestate_prices.csv')"
      ]
    },
    {
      "cell_type": "code",
      "execution_count": 165,
      "metadata": {
        "colab": {
          "base_uri": "https://localhost:8080/",
          "height": 568
        },
        "id": "kTs0fuBDLoCz",
        "outputId": "d6004895-ff15-44d8-e2cd-23f9eea76602"
      },
      "outputs": [
        {
          "data": {
            "text/html": [
              "<div>\n",
              "<style scoped>\n",
              "    .dataframe tbody tr th:only-of-type {\n",
              "        vertical-align: middle;\n",
              "    }\n",
              "\n",
              "    .dataframe tbody tr th {\n",
              "        vertical-align: top;\n",
              "    }\n",
              "\n",
              "    .dataframe thead th {\n",
              "        text-align: right;\n",
              "    }\n",
              "</style>\n",
              "<table border=\"1\" class=\"dataframe\">\n",
              "  <thead>\n",
              "    <tr style=\"text-align: right;\">\n",
              "      <th></th>\n",
              "      <th>RegionID</th>\n",
              "      <th>SizeRank</th>\n",
              "      <th>RegionName</th>\n",
              "      <th>RegionType</th>\n",
              "      <th>StateName</th>\n",
              "      <th>State</th>\n",
              "      <th>City</th>\n",
              "      <th>Metro</th>\n",
              "      <th>CountyName</th>\n",
              "      <th>2000-01-31</th>\n",
              "      <th>...</th>\n",
              "      <th>2022-12-31</th>\n",
              "      <th>2023-01-31</th>\n",
              "      <th>2023-02-28</th>\n",
              "      <th>2023-03-31</th>\n",
              "      <th>2023-04-30</th>\n",
              "      <th>2023-05-31</th>\n",
              "      <th>2023-06-30</th>\n",
              "      <th>2023-07-31</th>\n",
              "      <th>2023-08-31</th>\n",
              "      <th>2023-09-30</th>\n",
              "    </tr>\n",
              "  </thead>\n",
              "  <tbody>\n",
              "    <tr>\n",
              "      <th>0</th>\n",
              "      <td>91982</td>\n",
              "      <td>1</td>\n",
              "      <td>77494</td>\n",
              "      <td>zip</td>\n",
              "      <td>TX</td>\n",
              "      <td>TX</td>\n",
              "      <td>Katy</td>\n",
              "      <td>Houston-The Woodlands-Sugar Land, TX</td>\n",
              "      <td>Fort Bend County</td>\n",
              "      <td>210998.274855</td>\n",
              "      <td>...</td>\n",
              "      <td>477993.980265</td>\n",
              "      <td>475781.230089</td>\n",
              "      <td>474477.961277</td>\n",
              "      <td>473439.827111</td>\n",
              "      <td>474653.524348</td>\n",
              "      <td>476661.984057</td>\n",
              "      <td>479794.936271</td>\n",
              "      <td>482597.324009</td>\n",
              "      <td>485083.056594</td>\n",
              "      <td>486910.114726</td>\n",
              "    </tr>\n",
              "    <tr>\n",
              "      <th>1</th>\n",
              "      <td>61148</td>\n",
              "      <td>2</td>\n",
              "      <td>8701</td>\n",
              "      <td>zip</td>\n",
              "      <td>NJ</td>\n",
              "      <td>NJ</td>\n",
              "      <td>Lakewood</td>\n",
              "      <td>New York-Newark-Jersey City, NY-NJ-PA</td>\n",
              "      <td>Ocean County</td>\n",
              "      <td>138236.106220</td>\n",
              "      <td>...</td>\n",
              "      <td>526688.496534</td>\n",
              "      <td>529065.655134</td>\n",
              "      <td>531291.205373</td>\n",
              "      <td>534197.368329</td>\n",
              "      <td>538377.145099</td>\n",
              "      <td>543770.909659</td>\n",
              "      <td>549747.786643</td>\n",
              "      <td>555895.280469</td>\n",
              "      <td>561828.200137</td>\n",
              "      <td>568194.498423</td>\n",
              "    </tr>\n",
              "    <tr>\n",
              "      <th>2</th>\n",
              "      <td>91940</td>\n",
              "      <td>3</td>\n",
              "      <td>77449</td>\n",
              "      <td>zip</td>\n",
              "      <td>TX</td>\n",
              "      <td>TX</td>\n",
              "      <td>Katy</td>\n",
              "      <td>Houston-The Woodlands-Sugar Land, TX</td>\n",
              "      <td>Harris County</td>\n",
              "      <td>103318.630160</td>\n",
              "      <td>...</td>\n",
              "      <td>283864.948365</td>\n",
              "      <td>281434.776942</td>\n",
              "      <td>279092.679058</td>\n",
              "      <td>277234.960535</td>\n",
              "      <td>276040.337909</td>\n",
              "      <td>275560.590268</td>\n",
              "      <td>275939.451372</td>\n",
              "      <td>276700.188180</td>\n",
              "      <td>277596.655001</td>\n",
              "      <td>278130.312100</td>\n",
              "    </tr>\n",
              "    <tr>\n",
              "      <th>3</th>\n",
              "      <td>62080</td>\n",
              "      <td>4</td>\n",
              "      <td>11368</td>\n",
              "      <td>zip</td>\n",
              "      <td>NY</td>\n",
              "      <td>NY</td>\n",
              "      <td>New York</td>\n",
              "      <td>New York-Newark-Jersey City, NY-NJ-PA</td>\n",
              "      <td>Queens County</td>\n",
              "      <td>149035.558030</td>\n",
              "      <td>...</td>\n",
              "      <td>503622.567716</td>\n",
              "      <td>498054.569558</td>\n",
              "      <td>491140.641900</td>\n",
              "      <td>484774.625546</td>\n",
              "      <td>478103.650835</td>\n",
              "      <td>470951.343102</td>\n",
              "      <td>465519.157578</td>\n",
              "      <td>463684.283059</td>\n",
              "      <td>463678.295654</td>\n",
              "      <td>463117.230849</td>\n",
              "    </tr>\n",
              "    <tr>\n",
              "      <th>4</th>\n",
              "      <td>91733</td>\n",
              "      <td>5</td>\n",
              "      <td>77084</td>\n",
              "      <td>zip</td>\n",
              "      <td>TX</td>\n",
              "      <td>TX</td>\n",
              "      <td>Houston</td>\n",
              "      <td>Houston-The Woodlands-Sugar Land, TX</td>\n",
              "      <td>Harris County</td>\n",
              "      <td>101939.033374</td>\n",
              "      <td>...</td>\n",
              "      <td>274632.995125</td>\n",
              "      <td>273073.699280</td>\n",
              "      <td>271477.156735</td>\n",
              "      <td>270153.639535</td>\n",
              "      <td>269362.402315</td>\n",
              "      <td>269219.891252</td>\n",
              "      <td>269817.371906</td>\n",
              "      <td>270660.259532</td>\n",
              "      <td>271532.872461</td>\n",
              "      <td>271960.685440</td>\n",
              "    </tr>\n",
              "  </tbody>\n",
              "</table>\n",
              "<p>5 rows × 294 columns</p>\n",
              "</div>"
            ],
            "text/plain": [
              "   RegionID  SizeRank  RegionName RegionType StateName State      City  \\\n",
              "0     91982         1       77494        zip        TX    TX      Katy   \n",
              "1     61148         2        8701        zip        NJ    NJ  Lakewood   \n",
              "2     91940         3       77449        zip        TX    TX      Katy   \n",
              "3     62080         4       11368        zip        NY    NY  New York   \n",
              "4     91733         5       77084        zip        TX    TX   Houston   \n",
              "\n",
              "                                   Metro        CountyName     2000-01-31  \\\n",
              "0   Houston-The Woodlands-Sugar Land, TX  Fort Bend County  210998.274855   \n",
              "1  New York-Newark-Jersey City, NY-NJ-PA      Ocean County  138236.106220   \n",
              "2   Houston-The Woodlands-Sugar Land, TX     Harris County  103318.630160   \n",
              "3  New York-Newark-Jersey City, NY-NJ-PA     Queens County  149035.558030   \n",
              "4   Houston-The Woodlands-Sugar Land, TX     Harris County  101939.033374   \n",
              "\n",
              "   ...     2022-12-31     2023-01-31     2023-02-28     2023-03-31  \\\n",
              "0  ...  477993.980265  475781.230089  474477.961277  473439.827111   \n",
              "1  ...  526688.496534  529065.655134  531291.205373  534197.368329   \n",
              "2  ...  283864.948365  281434.776942  279092.679058  277234.960535   \n",
              "3  ...  503622.567716  498054.569558  491140.641900  484774.625546   \n",
              "4  ...  274632.995125  273073.699280  271477.156735  270153.639535   \n",
              "\n",
              "      2023-04-30     2023-05-31     2023-06-30     2023-07-31     2023-08-31  \\\n",
              "0  474653.524348  476661.984057  479794.936271  482597.324009  485083.056594   \n",
              "1  538377.145099  543770.909659  549747.786643  555895.280469  561828.200137   \n",
              "2  276040.337909  275560.590268  275939.451372  276700.188180  277596.655001   \n",
              "3  478103.650835  470951.343102  465519.157578  463684.283059  463678.295654   \n",
              "4  269362.402315  269219.891252  269817.371906  270660.259532  271532.872461   \n",
              "\n",
              "      2023-09-30  \n",
              "0  486910.114726  \n",
              "1  568194.498423  \n",
              "2  278130.312100  \n",
              "3  463117.230849  \n",
              "4  271960.685440  \n",
              "\n",
              "[5 rows x 294 columns]"
            ]
          },
          "execution_count": 165,
          "metadata": {},
          "output_type": "execute_result"
        }
      ],
      "source": [
        "df.head()"
      ]
    },
    {
      "attachments": {},
      "cell_type": "markdown",
      "metadata": {},
      "source": [
        "### shape of the dataframe"
      ]
    },
    {
      "cell_type": "code",
      "execution_count": 166,
      "metadata": {
        "colab": {
          "base_uri": "https://localhost:8080/"
        },
        "id": "6SQiIIzl7JLM",
        "outputId": "bcde47aa-0ea4-4eca-d9a8-a0fc4e1afc8e"
      },
      "outputs": [
        {
          "data": {
            "text/plain": [
              "(26368, 294)"
            ]
          },
          "execution_count": 166,
          "metadata": {},
          "output_type": "execute_result"
        }
      ],
      "source": [
        "df.shape"
      ]
    },
    {
      "attachments": {},
      "cell_type": "markdown",
      "metadata": {},
      "source": [
        "### checking for missing values"
      ]
    },
    {
      "cell_type": "code",
      "execution_count": 167,
      "metadata": {
        "colab": {
          "base_uri": "https://localhost:8080/"
        },
        "id": "GbuDWAIk0qWM",
        "outputId": "65ac7919-bde2-41e0-8e92-c89dc56cccbf"
      },
      "outputs": [
        {
          "name": "stdout",
          "output_type": "stream",
          "text": [
            "RegionID        0\n",
            "SizeRank        0\n",
            "RegionName      0\n",
            "RegionType      0\n",
            "StateName       0\n",
            "             ... \n",
            "2023-05-31    469\n",
            "2023-06-30    468\n",
            "2023-07-31    467\n",
            "2023-08-31    467\n",
            "2023-09-30      0\n",
            "Length: 294, dtype: int64\n"
          ]
        }
      ],
      "source": [
        "print(df.isna().sum())"
      ]
    },
    {
      "attachments": {},
      "cell_type": "markdown",
      "metadata": {},
      "source": [
        "### dropping all the records with missing values"
      ]
    },
    {
      "cell_type": "code",
      "execution_count": 168,
      "metadata": {
        "id": "-PL4xvE97GH-"
      },
      "outputs": [],
      "source": [
        "df.dropna(inplace=True)"
      ]
    },
    {
      "attachments": {},
      "cell_type": "markdown",
      "metadata": {},
      "source": [
        "### checking shape of dataframe after dropping records with missing values"
      ]
    },
    {
      "cell_type": "code",
      "execution_count": 169,
      "metadata": {
        "colab": {
          "base_uri": "https://localhost:8080/"
        },
        "id": "FHnDeKCj0YXz",
        "outputId": "db7d457a-aea4-4bf9-800b-ec33b2afb87a"
      },
      "outputs": [
        {
          "data": {
            "text/plain": [
              "(10611, 294)"
            ]
          },
          "execution_count": 169,
          "metadata": {},
          "output_type": "execute_result"
        }
      ],
      "source": [
        "df.shape"
      ]
    },
    {
      "attachments": {},
      "cell_type": "markdown",
      "metadata": {},
      "source": [
        "### drop unnecessary columns"
      ]
    },
    {
      "cell_type": "code",
      "execution_count": 170,
      "metadata": {
        "id": "Kbu5GaxYL38e"
      },
      "outputs": [],
      "source": [
        "new_df = df.drop(['RegionID', 'SizeRank', 'RegionType', 'StateName','Metro'],axis=1)\n",
        "\n",
        "# renaming the column RegionName to zipcode\n",
        "new_df.rename(columns={'RegionName': 'zipcode'}, inplace=True)"
      ]
    },
    {
      "attachments": {},
      "cell_type": "markdown",
      "metadata": {},
      "source": [
        "### melting the dataframe keeping columns as 'zipcode','CountyName','City','State', 'Date', 'Price'"
      ]
    },
    {
      "cell_type": "code",
      "execution_count": 171,
      "metadata": {
        "id": "AyPzEacXkJpD"
      },
      "outputs": [],
      "source": [
        "new_df_melt = new_df.melt(id_vars=['zipcode','CountyName','City','State'], var_name='Date', value_name='Price')"
      ]
    },
    {
      "cell_type": "code",
      "execution_count": 172,
      "metadata": {
        "colab": {
          "base_uri": "https://localhost:8080/",
          "height": 206
        },
        "id": "AqK5zdZeMKnD",
        "outputId": "04b47c35-5e77-4ff9-df6a-8cc132d0f370"
      },
      "outputs": [
        {
          "data": {
            "text/html": [
              "<div>\n",
              "<style scoped>\n",
              "    .dataframe tbody tr th:only-of-type {\n",
              "        vertical-align: middle;\n",
              "    }\n",
              "\n",
              "    .dataframe tbody tr th {\n",
              "        vertical-align: top;\n",
              "    }\n",
              "\n",
              "    .dataframe thead th {\n",
              "        text-align: right;\n",
              "    }\n",
              "</style>\n",
              "<table border=\"1\" class=\"dataframe\">\n",
              "  <thead>\n",
              "    <tr style=\"text-align: right;\">\n",
              "      <th></th>\n",
              "      <th>zipcode</th>\n",
              "      <th>CountyName</th>\n",
              "      <th>City</th>\n",
              "      <th>State</th>\n",
              "      <th>Date</th>\n",
              "      <th>Price</th>\n",
              "    </tr>\n",
              "  </thead>\n",
              "  <tbody>\n",
              "    <tr>\n",
              "      <th>0</th>\n",
              "      <td>77494</td>\n",
              "      <td>Fort Bend County</td>\n",
              "      <td>Katy</td>\n",
              "      <td>TX</td>\n",
              "      <td>2000-01-31</td>\n",
              "      <td>210998.274855</td>\n",
              "    </tr>\n",
              "    <tr>\n",
              "      <th>1</th>\n",
              "      <td>8701</td>\n",
              "      <td>Ocean County</td>\n",
              "      <td>Lakewood</td>\n",
              "      <td>NJ</td>\n",
              "      <td>2000-01-31</td>\n",
              "      <td>138236.106220</td>\n",
              "    </tr>\n",
              "    <tr>\n",
              "      <th>2</th>\n",
              "      <td>77449</td>\n",
              "      <td>Harris County</td>\n",
              "      <td>Katy</td>\n",
              "      <td>TX</td>\n",
              "      <td>2000-01-31</td>\n",
              "      <td>103318.630160</td>\n",
              "    </tr>\n",
              "    <tr>\n",
              "      <th>3</th>\n",
              "      <td>11368</td>\n",
              "      <td>Queens County</td>\n",
              "      <td>New York</td>\n",
              "      <td>NY</td>\n",
              "      <td>2000-01-31</td>\n",
              "      <td>149035.558030</td>\n",
              "    </tr>\n",
              "    <tr>\n",
              "      <th>4</th>\n",
              "      <td>77084</td>\n",
              "      <td>Harris County</td>\n",
              "      <td>Houston</td>\n",
              "      <td>TX</td>\n",
              "      <td>2000-01-31</td>\n",
              "      <td>101939.033374</td>\n",
              "    </tr>\n",
              "  </tbody>\n",
              "</table>\n",
              "</div>"
            ],
            "text/plain": [
              "   zipcode        CountyName      City State        Date          Price\n",
              "0    77494  Fort Bend County      Katy    TX  2000-01-31  210998.274855\n",
              "1     8701      Ocean County  Lakewood    NJ  2000-01-31  138236.106220\n",
              "2    77449     Harris County      Katy    TX  2000-01-31  103318.630160\n",
              "3    11368     Queens County  New York    NY  2000-01-31  149035.558030\n",
              "4    77084     Harris County   Houston    TX  2000-01-31  101939.033374"
            ]
          },
          "execution_count": 172,
          "metadata": {},
          "output_type": "execute_result"
        }
      ],
      "source": [
        "new_df_melt.head()"
      ]
    },
    {
      "attachments": {},
      "cell_type": "markdown",
      "metadata": {},
      "source": [
        "### Sort dataset by 'zipcode','CountyName','City','State','Date'"
      ]
    },
    {
      "cell_type": "code",
      "execution_count": 173,
      "metadata": {
        "id": "1taJsAD9Rp2N"
      },
      "outputs": [],
      "source": [
        "new_df_melt_sorted = new_df_melt.sort_values(by=['zipcode','CountyName','City','State','Date']).reset_index(drop=True)"
      ]
    },
    {
      "attachments": {},
      "cell_type": "markdown",
      "metadata": {},
      "source": [
        "### datatype conversion"
      ]
    },
    {
      "cell_type": "code",
      "execution_count": 174,
      "metadata": {
        "id": "yArxptj8B5s5"
      },
      "outputs": [],
      "source": [
        "new_df_melt_sorted['Date'] = pd.to_datetime(new_df_melt_sorted['Date']) # converting data type of 'Date' from string to datetime\n",
        "new_df_melt_sorted['zipcode'] = new_df_melt_sorted['zipcode'].astype('str') # converting data type of zipcode from int to string"
      ]
    },
    {
      "attachments": {},
      "cell_type": "markdown",
      "metadata": {},
      "source": [
        "### extract new features from 'Date'"
      ]
    },
    {
      "cell_type": "code",
      "execution_count": 175,
      "metadata": {},
      "outputs": [],
      "source": [
        "new_df_melt_sorted['Year'] = new_df_melt_sorted['Date'].dt.year # extracting 'Year'\n",
        "new_df_melt_sorted['Month'] = new_df_melt_sorted['Date'].dt.month # extracting 'Month'\n",
        "\n",
        "# droping the original 'Date' column after extracting 'Year' and 'Month'\n",
        "new_df_melt_sorted.drop('Date', axis=1, inplace=True)"
      ]
    },
    {
      "cell_type": "code",
      "execution_count": 176,
      "metadata": {
        "colab": {
          "base_uri": "https://localhost:8080/"
        },
        "id": "p4a42y-4xoI0",
        "outputId": "2f4f23fe-e3d1-4a9c-e557-9b99103155b7"
      },
      "outputs": [
        {
          "data": {
            "text/plain": [
              "zipcode        object\n",
              "CountyName     object\n",
              "City           object\n",
              "State          object\n",
              "Price         float64\n",
              "Year            int64\n",
              "Month           int64\n",
              "dtype: object"
            ]
          },
          "execution_count": 176,
          "metadata": {},
          "output_type": "execute_result"
        }
      ],
      "source": [
        "new_df_melt_sorted.dtypes"
      ]
    },
    {
      "attachments": {},
      "cell_type": "markdown",
      "metadata": {
        "id": "PgSLXqWK0woY"
      },
      "source": [
        "## replacing price"
      ]
    },
    {
      "cell_type": "code",
      "execution_count": 177,
      "metadata": {
        "id": "VNfM38vbAzEK"
      },
      "outputs": [],
      "source": [
        "# replacing the Price with the mean of each month's price for every year for every zipcode\n",
        "new_df_melt_sorted = new_df_melt_sorted.groupby(['zipcode', 'CountyName', 'City', 'State', 'Year'])['Price'].mean().reset_index()\n",
        "# converting data type of Price from float to int\n",
        "new_df_melt_sorted['Price'] = new_df_melt_sorted['Price'].astype('int')"
      ]
    },
    {
      "cell_type": "code",
      "execution_count": 178,
      "metadata": {
        "colab": {
          "base_uri": "https://localhost:8080/"
        },
        "id": "oxOJ2iOH03Is",
        "outputId": "1ac30b35-948f-4f76-bba8-da34c042a16f"
      },
      "outputs": [
        {
          "data": {
            "text/plain": [
              "zipcode       object\n",
              "CountyName    object\n",
              "City          object\n",
              "State         object\n",
              "Year           int64\n",
              "Price          int32\n",
              "dtype: object"
            ]
          },
          "execution_count": 178,
          "metadata": {},
          "output_type": "execute_result"
        }
      ],
      "source": [
        "new_df_melt_sorted.dtypes"
      ]
    },
    {
      "attachments": {},
      "cell_type": "markdown",
      "metadata": {},
      "source": [
        "# EDA"
      ]
    },
    {
      "cell_type": "code",
      "execution_count": 179,
      "metadata": {},
      "outputs": [
        {
          "name": "stdout",
          "output_type": "stream",
          "text": [
            "   zipcode       CountyName      City State  Year    Price\n",
            "0    10001  New York County  New York    NY  2000   790812\n",
            "1    10001  New York County  New York    NY  2001   912253\n",
            "2    10001  New York County  New York    NY  2002  1050018\n",
            "3    10001  New York County  New York    NY  2003  1166322\n",
            "4    10001  New York County  New York    NY  2004  1259462\n",
            "5    10001  New York County  New York    NY  2005  1559704\n",
            "6    10001  New York County  New York    NY  2006  1786005\n",
            "7    10001  New York County  New York    NY  2007  1793676\n",
            "8    10001  New York County  New York    NY  2008  1863590\n",
            "9    10001  New York County  New York    NY  2009  1638641\n",
            "10   10001  New York County  New York    NY  2010  1523628\n",
            "11   10001  New York County  New York    NY  2011  1592870\n"
          ]
        }
      ],
      "source": [
        "print(new_df_melt_sorted.head(12))"
      ]
    },
    {
      "cell_type": "code",
      "execution_count": 180,
      "metadata": {},
      "outputs": [
        {
          "data": {
            "text/plain": [
              "zipcode       object\n",
              "CountyName    object\n",
              "City          object\n",
              "State         object\n",
              "Year           int64\n",
              "Price          int32\n",
              "dtype: object"
            ]
          },
          "execution_count": 180,
          "metadata": {},
          "output_type": "execute_result"
        }
      ],
      "source": [
        "new_df_melt_sorted.dtypes"
      ]
    },
    {
      "cell_type": "code",
      "execution_count": 181,
      "metadata": {},
      "outputs": [],
      "source": [
        "# Group by State and calculate average price\n",
        "state_price_avg = new_df_melt_sorted.groupby('State')['Price'].mean().sort_values()"
      ]
    },
    {
      "cell_type": "code",
      "execution_count": 182,
      "metadata": {},
      "outputs": [
        {
          "data": {
            "image/png": "[encoded data removed]",
            "text/plain": [
              "<Figure size 640x480 with 1 Axes>"
            ]
          },
          "metadata": {},
          "output_type": "display_data"
        }
      ],
      "source": [
        "# Top 5 states with the highest average value of Price\n",
        "top_5_highest_avg_price = state_price_avg.tail(5)\n",
        "top_5_highest_avg_price.plot(kind='bar', color='green')\n",
        "plt.title('Top 5 States with Highest Average Real-estate Price')\n",
        "plt.ylabel('Average Price')\n",
        "plt.xlabel('State')\n",
        "plt.grid()\n",
        "plt.tight_layout()\n",
        "plt.show()"
      ]
    },
    {
      "cell_type": "code",
      "execution_count": 183,
      "metadata": {},
      "outputs": [
        {
          "data": {
            "image/png": "[encoded data removed]",
            "text/plain": [
              "<Figure size 640x480 with 1 Axes>"
            ]
          },
          "metadata": {},
          "output_type": "display_data"
        }
      ],
      "source": [
        "# Top 5 states with the least average value of Price\n",
        "top_5_lowest_avg_price = state_price_avg.head(5)\n",
        "top_5_lowest_avg_price.plot(kind='bar', color='red')\n",
        "plt.title('Top 5 States with Lowest Average Real-estate Price')\n",
        "plt.ylabel('Average Price')\n",
        "plt.xlabel('State')\n",
        "plt.grid()\n",
        "plt.tight_layout()\n",
        "plt.show()"
      ]
    },
    {
      "cell_type": "code",
      "execution_count": 184,
      "metadata": {},
      "outputs": [
        {
          "data": {
            "image/png": "[encoded data removed]",
            "text/plain": [
              "<Figure size 640x480 with 1 Axes>"
            ]
          },
          "metadata": {},
          "output_type": "display_data"
        }
      ],
      "source": [
        "new_df_melt_sorted[new_df_melt_sorted['State']=='CA'].groupby('Year')['Price'].mean().plot()\n",
        "plt.title('California Real-estate Price Trnd over years')\n",
        "plt.ylabel('Average Price')\n",
        "plt.xlabel('Year')\n",
        "plt.grid()\n",
        "plt.tight_layout()\n",
        "plt.show()"
      ]
    },
    {
      "attachments": {},
      "cell_type": "markdown",
      "metadata": {
        "id": "WHNlVRiU2-cI"
      },
      "source": [
        "# Linear Regression"
      ]
    },
    {
      "cell_type": "code",
      "execution_count": 199,
      "metadata": {
        "colab": {
          "base_uri": "https://localhost:8080/"
        },
        "id": "HTio7092_tls",
        "outputId": "0cde01cb-8d63-441e-b0d1-6e4826d12afd"
      },
      "outputs": [
        {
          "name": "stdout",
          "output_type": "stream",
          "text": [
            "R-squared: 0.85\n"
          ]
        }
      ],
      "source": [
        "X = new_df_melt_sorted[['zipcode', 'CountyName', 'City', 'State', 'Year']] # independent features\n",
        "y = new_df_melt_sorted['Price'] # dependent feature\n",
        "\n",
        "# splitting data into train and test\n",
        "X_train, X_test, y_train, y_test = train_test_split(X, y, test_size=0.33) # taking the test size as 33.33%\n",
        "\n",
        "# preprocessing categorical columns and numerical column\n",
        "preprocessor = ColumnTransformer(\n",
        "    transformers=[\n",
        "        ('cat', OneHotEncoder(), ['zipcode', 'CountyName', 'City', 'State']),\n",
        "        ('num', StandardScaler(), ['Year'])\n",
        "    ])\n",
        "\n",
        "# pipeline with preprocessing and model(linear regression)\n",
        "pipeline = Pipeline(steps=[\n",
        "    ('preprocessor', preprocessor),\n",
        "    ('model', LinearRegression()) # using linear regression\n",
        "])\n",
        "\n",
        "# training\n",
        "pipeline.fit(X_train, y_train)\n",
        "\n",
        "# testing\n",
        "y_pred = pipeline.predict(X_test)\n",
        "\n",
        "# evaluation\n",
        "r2 = round(r2_score(y_test, y_pred),2)\n",
        "print(f'R-squared: {r2}')"
      ]
    },
    {
      "attachments": {},
      "cell_type": "markdown",
      "metadata": {
        "id": "m8IK2gys1-uA"
      },
      "source": [
        "## predict_price"
      ]
    },
    {
      "cell_type": "code",
      "execution_count": 186,
      "metadata": {
        "id": "G_7jmvCDKFNZ"
      },
      "outputs": [
        {
          "name": "stdout",
          "output_type": "stream",
          "text": [
            "Predicted price: 128700\n"
          ]
        }
      ],
      "source": [
        "def predict_price(zipcode, year):\n",
        "    # Take user input for zipcode, CountyName, City, State, Year, and Month\n",
        "    ''' \n",
        "    This method takes the user entered zipcode and gets the details like city, county name, state for \n",
        "    the entered zipcode and uses that data along with the user entered zipcode and year to predict the \n",
        "    price.\n",
        "    '''\n",
        "    zipcode = zipcode\n",
        "    year = int(year)\n",
        "    zip_code_details = (new_df_melt_sorted.loc[new_df_melt_sorted['zipcode'] == zipcode])\n",
        "    first_row = zip_code_details.iloc[0]\n",
        "\n",
        "    # extracting City, CountyName, and State\n",
        "    city = first_row['City']\n",
        "    county_name = first_row['CountyName']\n",
        "    state = first_row['State']\n",
        "\n",
        "    # creating a DataFrame with user input\n",
        "    user_input = pd.DataFrame({\n",
        "        'zipcode': [zipcode],\n",
        "        'CountyName': [county_name],\n",
        "        'City': [city],\n",
        "        'State': [state],\n",
        "        'Year': [year]\n",
        "    })\n",
        "\n",
        "    user_input_encoded = pipeline.named_steps['preprocessor'].transform(user_input)\n",
        "    predicted_price = pipeline.named_steps['model'].predict(user_input_encoded)\n",
        "\n",
        "    return int(predicted_price[0])\n",
        "\n",
        "\n",
        "# Predict using the predict function\n",
        "# predicted_price = predict_price('1001',2004)\n",
        "# print(f\"Predicted price: {int(predicted_price)}\")"
      ]
    },
    {
      "attachments": {},
      "cell_type": "markdown",
      "metadata": {},
      "source": [
        "## Analysis on Zipcodes of States"
      ]
    },
    {
      "cell_type": "code",
      "execution_count": 187,
      "metadata": {},
      "outputs": [],
      "source": [
        "def map_expensive_zipcodes(data, year):\n",
        "    '''\n",
        "    Generates a folium map with markers indicating the top and bottom expensive zip codes\n",
        "    for each state in the USA for a given year. Markers are color-coded: red for most expensive,\n",
        "    blue for least expensive.\n",
        "\n",
        "    Parameters:\n",
        "    data (DataFrame): The dataset containing real estate price information.\n",
        "    year (int): The specific year for which the map is generated.\n",
        "    '''\n",
        "    year_data = data[data['Year'] == year]\n",
        "    zipcode_prices = year_data.groupby(['State', 'zipcode'])['Price'].mean().reset_index()\n",
        "    geolocator = pgeocode.Nominatim('us')\n",
        "\n",
        "    # Function to retrieve latitude and longitude from a zip code\n",
        "    def get_zip_info(zip_code):\n",
        "        formatted_zip = str(zip_code).zfill(5)\n",
        "        location = geolocator.query_postal_code(formatted_zip)\n",
        "        if location is None or pd.isnull(location.latitude) or pd.isnull(location.longitude):\n",
        "            return None, None\n",
        "        return [location.latitude, location.longitude], location.place_name\n",
        "\n",
        "    folium_map = folium.Map(location=[30.0902, -95.7129], zoom_start=3.5)  # Center of the USA\n",
        "\n",
        "    def add_markers(state, zip_data, color):\n",
        "        '''\n",
        "        Adds markers to the zip codes in the state\n",
        "        '''\n",
        "        for _, row in zip_data.iterrows():\n",
        "            coordinates, city_name = get_zip_info(row['zipcode'])\n",
        "            if coordinates:\n",
        "                popup_text = f\"{state} Zip: {row['zipcode']}, City: {city_name}, Price: ${row['Price']}\"\n",
        "                folium.Marker(\n",
        "                    location=coordinates,\n",
        "                    popup=popup_text,\n",
        "                    icon=folium.Icon(color=color)\n",
        "                ).add_to(folium_map)\n",
        "\n",
        "    # Add markers for top and bottom zip codes in each state\n",
        "    for state in year_data['State'].unique():\n",
        "        state_data = zipcode_prices[zipcode_prices['State'] == state]\n",
        "        top_zipcode = state_data.nlargest(1, 'Price')\n",
        "        bottom_zipcode = state_data.nsmallest(1, 'Price')\n",
        "        add_markers(state, top_zipcode, 'red')\n",
        "        add_markers(state, bottom_zipcode, 'blue')\n",
        "\n",
        "    return folium_map\n",
        "\n",
        "def map_zipcode_prices(data, year, state):\n",
        "    '''\n",
        "    Creates a folium map displaying the top 5 most expensive and least expensive zip codes\n",
        "    within a specific state for a given year.\n",
        "\n",
        "    Parameters:\n",
        "    data (DataFrame): Dataset with housing price information.\n",
        "    year (int): The year of interest.\n",
        "    state (str): The state code (e.g., 'CA' for California) for which the map is generated.\n",
        "    '''\n",
        "    year_state_data = data[(data['Year'] == year) & (data['State'] == state)]\n",
        "    zipcode_prices = year_state_data.groupby('zipcode')['Price'].mean().reset_index()\n",
        "\n",
        "    top_zipcodes = zipcode_prices.nlargest(5, 'Price')\n",
        "    bottom_zipcodes = zipcode_prices.nsmallest(5, 'Price')\n",
        "\n",
        "    geolocator = pgeocode.Nominatim('us')\n",
        "\n",
        "    def get_lat_long(zip_code):\n",
        "        formatted_zip = str(zip_code).zfill(5)\n",
        "        location = geolocator.query_postal_code(formatted_zip)\n",
        "        if location is None or pd.isnull(location.latitude) or pd.isnull(location.longitude):\n",
        "            return None, None\n",
        "        city_name = location.place_name\n",
        "        return [location.latitude, location.longitude], city_name\n",
        "\n",
        "    first_zip_location, _ = get_lat_long(year_state_data['zipcode'].iloc[0])\n",
        "    folium_map = folium.Map(location=first_zip_location, zoom_start=7)\n",
        "\n",
        "    def add_markers(zipcode_data, color):\n",
        "        for _, row in zipcode_data.iterrows():\n",
        "            coordinates, city_name = get_lat_long(row['zipcode'])\n",
        "            if coordinates:\n",
        "                popup_text = f\"Zipcode: {row['zipcode']}, City: {city_name}, Average Price: ${row['Price']}\"\n",
        "                folium.Marker(\n",
        "                    location=coordinates,\n",
        "                    popup=popup_text,\n",
        "                    icon=folium.Icon(color=color)\n",
        "                ).add_to(folium_map)\n",
        "\n",
        "    add_markers(top_zipcodes, 'red')\n",
        "    add_markers(bottom_zipcodes, 'green')\n",
        "\n",
        "    return folium_map\n",
        "\n",
        "\n",
        "def get_geojson(url):\n",
        "    '''\n",
        "    Retrieves GeoJSON data from a specified URL.\n",
        "    Parameters:\n",
        "    url (str): URL pointing to the GeoJSON data.\n",
        "    Returns:\n",
        "    dict: Parsed GeoJSON data if successful, or raises an exception on failure.\n",
        "    '''\n",
        "    response = requests.get(url)\n",
        "    if response.status_code == 200:\n",
        "        return response.json()\n",
        "    else:\n",
        "        raise Exception(\"Failed to download GeoJSON data\")\n",
        "\n",
        "def add_state_markers(map_object, states_data, state_coords):\n",
        "    for _, row in states_data.iterrows():\n",
        "        state_name = row['State']\n",
        "        location = state_coords.get(state_name)\n",
        "        if location:\n",
        "            folium.Marker(\n",
        "                location=location,\n",
        "                popup=f\"{state_name}: ${row['Price']:.2f}\",\n",
        "                icon=folium.Icon(color=\"blue\", icon=\"info-sign\")\n",
        "            ).add_to(map_object)\n",
        "\n",
        "def create_choropleth_map(data, year, geojson, state_coords):\n",
        "    '''\n",
        "    Creates a choropleth map showing the average housing prices for the top 5 most\n",
        "    expensive and least expensive states in a given year.\n",
        "    Parameters:\n",
        "    data (DataFrame): Dataset with housing price information.\n",
        "    year (int): The year for which the map is generated.\n",
        "    geojson (dict): GeoJSON data for mapping states.\n",
        "    state_coords (dict): Coordinates for each state to place markers.\n",
        "    Returns:\n",
        "    folium.Map: A folium map object with the choropleth layer and state markers.\n",
        "    '''\n",
        "    data_for_year = data[data['Year'] == year]\n",
        "\n",
        "    average_prices = data_for_year.groupby('State')['Price'].mean().sort_values(ascending=False).reset_index()\n",
        "    top_states = average_prices.head(5)\n",
        "    print(top_states)\n",
        "    bottom_states = average_prices.tail(5)\n",
        "    combined_states = pd.concat([top_states, bottom_states])\n",
        "\n",
        "    m = folium.Map(location=[37.0902, -95.7129], zoom_start=4)\n",
        "\n",
        "    folium.Choropleth(\n",
        "        geo_data=geojson,\n",
        "        name=\"choropleth\",\n",
        "        data=combined_states,\n",
        "        columns=[\"State\", \"Price\"],\n",
        "        key_on=\"feature.id\",\n",
        "        fill_color=\"YlGn\",\n",
        "        fill_opacity=0.7,\n",
        "        line_opacity=0.1,\n",
        "        legend_name=\"Average House Price\"\n",
        "    ).add_to(m)\n",
        "\n",
        "    dc_data = average_prices[average_prices['State'] == 'DC']\n",
        "    if not dc_data.empty:\n",
        "        dc_price = dc_data.iloc[0]['Price']\n",
        "        folium.CircleMarker(\n",
        "            location=[38.9072, -77.0369],  \n",
        "            radius=5,\n",
        "            color='red',  \n",
        "            fill=True,\n",
        "            fill_color='red',  \n",
        "            fill_opacity=0.7,\n",
        "            popup=f\"DC: ${dc_price}\"\n",
        "        ).add_to(m)\n",
        "    add_state_markers(m, combined_states, state_coords)\n",
        "\n",
        "    folium.LayerControl().add_to(m)\n",
        "\n",
        "    return m"
      ]
    },
    {
      "attachments": {},
      "cell_type": "markdown",
      "metadata": {},
      "source": [
        "# Analysis on States of USA"
      ]
    },
    {
      "cell_type": "code",
      "execution_count": 196,
      "metadata": {},
      "outputs": [],
      "source": [
        "def get_state_full_names(abbreviations):\n",
        "    ''' \n",
        "    Converts given state abbrivation into \n",
        "    complete state name\n",
        "    '''\n",
        "    \n",
        "    states = {\n",
        "    'AL': 'Alabama', 'AK': 'Alaska', 'AZ': 'Arizona', 'AR': 'Arkansas',\n",
        "    'CA': 'California', 'CO': 'Colorado', 'CT': 'Connecticut', 'DE': 'Delaware',\n",
        "    'FL': 'Florida', 'GA': 'Georgia', 'HI': 'Hawaii', 'ID': 'Idaho',\n",
        "    'IL': 'Illinois', 'IN': 'Indiana', 'IA': 'Iowa', 'KS': 'Kansas',\n",
        "    'KY': 'Kentucky', 'LA': 'Louisiana', 'ME': 'Maine', 'MD': 'Maryland',\n",
        "    'MA': 'Massachusetts', 'MI': 'Michigan', 'MN': 'Minnesota', 'MS': 'Mississippi',\n",
        "    'MO': 'Missouri', 'MT': 'Montana', 'NE': 'Nebraska', 'NV': 'Nevada',\n",
        "    'NH': 'New Hampshire', 'NJ': 'New Jersey', 'NM': 'New Mexico', 'NY': 'New York',\n",
        "    'NC': 'North Carolina', 'ND': 'North Dakota', 'OH': 'Ohio', 'OK': 'Oklahoma',\n",
        "    'OR': 'Oregon', 'PA': 'Pennsylvania', 'RI': 'Rhode Island', 'SC': 'South Carolina',\n",
        "    'SD': 'South Dakota', 'TN': 'Tennessee', 'TX': 'Texas', 'UT': 'Utah',\n",
        "    'VT': 'Vermont', 'VA': 'Virginia', 'WA': 'Washington', 'WV': 'West Virginia',\n",
        "    'WI': 'Wisconsin', 'WY': 'Wyoming', 'DC': 'District of Columbia'\n",
        "}   \n",
        "    return states.get(abbreviations, \"Unknown\")\n",
        "\n",
        "def get_top_5_states(year):\n",
        "    '''\n",
        "    Return top 5 expensive states \n",
        "    in usa for the given year\n",
        "    '''\n",
        "    top_5_states = new_df_melt_sorted[new_df_melt_sorted['Year']==year].groupby('State')['Price'].mean()\n",
        "    top_5_states = top_5_states.sort_values().tail(5)\n",
        "    return top_5_states\n",
        "    \n",
        "def get_affordable_5_states(year):\n",
        "    '''\n",
        "    Return top 5 affordable states \n",
        "    in usa for the given year\n",
        "    '''\n",
        "    affordable_5_states = new_df_melt_sorted[new_df_melt_sorted['Year']==year].groupby('State')['Price'].mean()\n",
        "    affordable_5_states = affordable_5_states.sort_values().head(5)\n",
        "    return affordable_5_states\n",
        "\n",
        "def map_affordable_states(year):\n",
        "    '''\n",
        "    maps the afforable states data to the folium map by adding \n",
        "    a boundary and marker to the geojson data from nominatim OSM API.\n",
        "    '''\n",
        "    geolocator = Nominatim(user_agent=\"my_geocoder\")\n",
        "    affordable_5_states = get_affordable_5_states(year)\n",
        "    folium_map = folium.Map(location=[30.0902, -95.7129], zoom_start=3.5)  # Center of the USA\n",
        "    \n",
        "    for state in affordable_5_states.index:\n",
        "        add_boundary_data(get_state_full_names(state),folium_map,affordable_5_states[state])\n",
        "\n",
        "    return folium_map\n",
        "\n",
        "def map_expensive_states(year):\n",
        "    '''\n",
        "    maps the afforable states data to the folium map by adding \n",
        "    a boundary and marker to the geo data nominatim OSM API.\n",
        "    '''\n",
        "    geolocator = Nominatim(user_agent=\"my_geocoder\")\n",
        "    top_5_states = get_top_5_states(year)\n",
        "    folium_map = folium.Map(location=[30.0902, -95.7129], zoom_start=3.5)  # Center of the USA\n",
        "    \n",
        "    for state in top_5_states.index:\n",
        "        print(state)\n",
        "        add_boundary_data(get_state_full_names(state),folium_map,top_5_states[state])\n",
        "    \n",
        "    return folium_map"
      ]
    },
    {
      "attachments": {},
      "cell_type": "markdown",
      "metadata": {},
      "source": [
        "# Dwello - App"
      ]
    },
    {
      "cell_type": "code",
      "execution_count": 198,
      "metadata": {
        "colab": {
          "base_uri": "https://localhost:8080/"
        },
        "id": "HO1Qh1ALvgni",
        "outputId": "e33d4b42-e01e-4e67-fce0-2e2d1155196b"
      },
      "outputs": [
        {
          "name": "stdout",
          "output_type": "stream",
          "text": [
            " * Serving Flask app '__main__'\n",
            " * Debug mode: off\n"
          ]
        },
        {
          "name": "stderr",
          "output_type": "stream",
          "text": [
            "WARNING: This is a development server. Do not use it in a production deployment. Use a production WSGI server instead.\n",
            " * Running on http://127.0.0.1:5000\n",
            "Press CTRL+C to quit\n"
          ]
        },
        {
          "name": "stdout",
          "output_type": "stream",
          "text": [
            " * Running on http://5b04-71-95-57-83.ngrok-free.app\n",
            " * Traffic stats available on http://127.0.0.1:4040\n"
          ]
        },
        {
          "name": "stderr",
          "output_type": "stream",
          "text": [
            "127.0.0.1 - - [09/Dec/2023 10:20:17] \"GET / HTTP/1.1\" 200 -\n",
            "127.0.0.1 - - [09/Dec/2023 10:20:19] \"GET /predictions HTTP/1.1\" 200 -\n",
            "127.0.0.1 - - [09/Dec/2023 10:20:28] \"POST /predictions HTTP/1.1\" 200 -\n",
            "127.0.0.1 - - [09/Dec/2023 10:20:28] \"GET /temp/map.html HTTP/1.1\" 200 -\n"
          ]
        }
      ],
      "source": [
        "app = Flask(__name__)\n",
        "run_with_ngrok(app)\n",
        "\n",
        "os.makedirs('temp', exist_ok=True)\n",
        "\n",
        "def get_ml_model_output(zipcode, year):\n",
        "    '''\n",
        "    gets the model predictions for given zipcode \n",
        "    and year using the trainer linear regression model.\n",
        "    '''\n",
        "    \n",
        "    prediction = predict_price(zipcode,year)\n",
        "    return f\"Zipcode: {zipcode}\\nYear: {year}\\nPredicted Price: ${prediction}\"\n",
        "\n",
        "\n",
        "def add_boundary_data(state,folium_map,price):\n",
        "    '''\n",
        "    Used to add boundary for the given state \n",
        "    and creates a marker with Price value as popup.\n",
        "    '''\n",
        "    \n",
        "    # Base URL for Nominatim API\n",
        "    base_url = 'https://nominatim.openstreetmap.org/search'\n",
        "\n",
        "    params = {\n",
        "        'state': f'{state}',\n",
        "        'country': 'US',\n",
        "        'format': 'json',\n",
        "        'polygon_geojson': 1,\n",
        "        'feature_type': 'state'\n",
        "    }\n",
        "\n",
        "    # Making the request\n",
        "    response = requests.get(base_url, params=params)\n",
        "\n",
        "    # Check the status code and handle the response\n",
        "    if response.status_code == 200:\n",
        "        # Parse the response content as JSON\n",
        "        city_boundary_data = response.json()\n",
        "        lat = city_boundary_data[0].get('lat')\n",
        "        lon = city_boundary_data[0].get('lon')\n",
        "    else:\n",
        "        print(\"Request failed with status code:\", response.status_code)\n",
        "        print(\"Response content:\", response.text)  # Display the response content for investigation\n",
        "\n",
        "    geo_json=city_boundary_data[0].get('geojson')\n",
        "    polygon_type = geo_json.get('type')\n",
        "    coordinates = geo_json.get('coordinates')\n",
        "    # Create a GeoJSON layer for the city boundary data and add it to the map\n",
        "    folium.GeoJson({\n",
        "            'type': polygon_type,\n",
        "            'coordinates': coordinates\n",
        "        }, name='state_boundary', style_function=lambda x: {\n",
        "            'color': 'blue',  # Set the color for the boundary\n",
        "            'fillOpacity': 0.2,\n",
        "            'weight': 2\n",
        "        }).add_to(folium_map)\n",
        "    folium.Marker(\n",
        "        [lat,lon],\n",
        "        popup=f\"<b>${int(price)}</b>\",\n",
        "        icon=folium.Icon(color=\"red\", icon=\"info-sign\")\n",
        "    ).add_to(folium_map)\n",
        "    \n",
        "\n",
        "@app.route('/', methods=['GET', 'POST'])\n",
        "def index():\n",
        "    return render_template('index.html')\n",
        "\n",
        "@app.route('/temp/<filename>')\n",
        "def temp_file(filename):\n",
        "    return send_from_directory('temp', filename)\n",
        "\n",
        "@app.route('/predictions', methods=['GET', 'POST'])\n",
        "def predictions():\n",
        "    map_html_file = None\n",
        "    if request.method == 'POST':\n",
        "        zipcode = request.form.get('zipcode')\n",
        "        year = request.form.get('year')\n",
        "        query = nomi.query_postal_code(zipcode)\n",
        "        latitude = query['latitude']\n",
        "        longitude = query['longitude']\n",
        "        folium_map = folium.Map(location=[latitude, longitude], zoom_start=12)\n",
        "        folium.Marker([latitude, longitude], popup=get_ml_model_output(zipcode, year)).add_to(folium_map)\n",
        "        map_html_file = 'temp/map.html'\n",
        "        folium_map.save(map_html_file)\n",
        "\n",
        "    return render_template('/prediction.html', map_html_file=map_html_file)\n",
        "\n",
        "@app.route('/analysis', methods=['GET', 'POST'])\n",
        "def analysis():\n",
        "    print(\"Accessing the analysis page\")  # Debugging print\n",
        "    analysis_content = \"Select an option to view the map analysis.\"\n",
        "    map_html_file = None\n",
        "\n",
        "    if request.method == 'POST':\n",
        "        year = int(request.form.get('year'))\n",
        "        map_choice = request.form.get('map_choice')\n",
        "        state = request.form.get('state') if map_choice == 'state_zipcodes' else None\n",
        "\n",
        "        if map_choice == 'expensive_zipcodes':\n",
        "                folium_map = map_expensive_zipcodes(new_df_melt_sorted, year)\n",
        "                map_html_file = 'expensive_zipcodes_map.html'\n",
        "                folium_map.save(f'temp/{map_html_file}')\n",
        "        \n",
        "        elif map_choice == 'expensive_states':\n",
        "                folium_map = map_expensive_states(year)\n",
        "                map_html_file = 'expensive_states_map.html'\n",
        "                folium_map.save(f'temp/{map_html_file}')\n",
        "        \n",
        "        elif map_choice == 'affordable_states':\n",
        "                folium_map = map_affordable_states(year)\n",
        "                map_html_file = 'affordable_states_map.html'\n",
        "                folium_map.save(f'temp/{map_html_file}')\n",
        "                \n",
        "        elif map_choice == 'state_zipcodes' and state:\n",
        "                folium_map = map_zipcode_prices(new_df_melt_sorted, year, state)\n",
        "                map_html_file = 'state_zipcodes_map.html'\n",
        "                folium_map.save(f'temp/{map_html_file}')\n",
        "        elif map_choice == 'choropleth_map':\n",
        "                url = \"https://raw.githubusercontent.com/python-visualization/folium/main/examples/data/us-states.json\"\n",
        "                geojson = get_geojson(url)\n",
        "                state_coords = {\n",
        "                    'AL': [32.806671, -86.791130], 'AK': [61.370716, -152.404419], 'AZ': [33.729759, -111.431221],\n",
        "                    'AR': [34.969704, -92.373123], 'CA': [36.116203, -119.681564], 'CO': [39.059811, -105.311104],\n",
        "                    'CT': [41.597782, -72.755371], 'DE': [39.318523, -75.507141], 'FL': [27.766279, -81.686783],\n",
        "                    'GA': [33.040619, -83.643074], 'HI': [21.094318, -157.498337], 'ID': [44.240459, -114.478828],\n",
        "                    'IL': [40.349457, -88.986137], 'IN': [39.849426, -86.258278], 'IA': [42.011539, -93.210526],\n",
        "                    'KS': [38.526600, -96.726486], 'KY': [37.668140, -84.670067], 'LA': [31.169546, -91.867805],\n",
        "                    'ME': [44.693947, -69.381927], 'MD': [39.063946, -76.802101], 'MA': [42.230171, -71.530106],\n",
        "                    'MI': [43.326618, -84.536095], 'MN': [45.694454, -93.900192], 'MS': [32.741646, -89.678696],\n",
        "                    'MO': [38.456085, -92.288368], 'MT': [46.921925, -110.454353], 'NE': [41.125370, -98.268082],\n",
        "                    'NV': [38.313515, -117.055374], 'NH': [43.452492, -71.563896], 'NJ': [40.298904, -74.521011],\n",
        "                    'NM': [34.840515, -106.248482], 'NY': [42.165726, -74.948051], 'NC': [35.630066, -79.806419],\n",
        "                    'ND': [47.528912, -99.784012], 'OH': [40.388783, -82.764915], 'OK': [35.565342, -96.928917],\n",
        "                    'OR': [44.572021, -122.070938], 'PA': [40.590752, -77.209755], 'RI': [41.680893, -71.511780],\n",
        "                    'SC': [33.856892, -80.945007], 'SD': [44.299782, -99.438828], 'TN': [35.747845, -86.692345],\n",
        "                    'TX': [31.054487, -97.563461], 'UT': [40.150032, -111.862434], 'VT': [44.045876, -72.710686],\n",
        "                    'VA': [37.769337, -78.169968], 'WA': [47.400902, -121.490494], 'WV': [38.491226, -80.954570],\n",
        "                    'WI': [44.268543, -89.616508], 'WY': [42.755966, -107.302490], 'DC': [38.897438, -77.026817]\n",
        "                }\n",
        "                folium_map = create_choropleth_map(new_df_melt_sorted, year, geojson, state_coords)\n",
        "                map_html_file = 'choropleth_map.html'\n",
        "                folium_map.save(f'temp/{map_html_file}')\n",
        "\n",
        "    if map_html_file:\n",
        "            folium_map.save(map_html_file)\n",
        "\n",
        "    return render_template('analysis.html', analysis_content=analysis_content, map_html_file=map_html_file)\n",
        "\n",
        "if __name__ == '__main__':\n",
        "    app.run()\n"
      ]
    },
    {
      "cell_type": "code",
      "execution_count": null,
      "metadata": {},
      "outputs": [],
      "source": []
    }
  ],
  "metadata": {
    "colab": {
      "provenance": []
    },
    "kernelspec": {
      "display_name": "Python 3",
      "name": "python3"
    },
    "language_info": {
      "codemirror_mode": {
        "name": "ipython",
        "version": 3
      },
      "file_extension": ".py",
      "mimetype": "text/x-python",
      "name": "python",
      "nbconvert_exporter": "python",
      "pygments_lexer": "ipython3",
      "version": "3.11.4"
    }
  },
  "nbformat": 4,
  "nbformat_minor": 0
}
